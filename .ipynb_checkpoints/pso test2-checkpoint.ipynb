{
 "cells": [
  {
   "cell_type": "markdown",
   "metadata": {},
   "source": [
    "# Some Examples on Particle Swarm Optimization"
   ]
  },
  {
   "cell_type": "markdown",
   "metadata": {},
   "source": [
    "### Import packages"
   ]
  },
  {
   "cell_type": "code",
   "execution_count": 2,
   "metadata": {},
   "outputs": [],
   "source": [
    "import pyswarms as ps\n",
    "from pyswarms.utils.functions import single_obj as fx\n",
    "from pyswarms.utils.plotters import plot_cost_history, plot_contour, plot_surface\n",
    "import matplotlib.pyplot as plt\n",
    "import scipy\n",
    "import numpy as np\n",
    "import pandas as pd\n",
    "from sklearn.linear_model import LinearRegression, Lasso, Ridge\n",
    "from sklearn.preprocessing import StandardScaler\n",
    "from codes.API.EM_Rasch_API import *"
   ]
  },
  {
   "cell_type": "code",
   "execution_count": 3,
   "metadata": {},
   "outputs": [],
   "source": [
    "def Mixture_IRT_MMLE(initial_value, parameters):\n",
    "    # unpack parameters\n",
    "    Y, nodes_num, G = parameters\n",
    "    N, I = Y.shape\n",
    "    ## for optimization only\n",
    "    initial_value = initial_value.reshape((I+3, G))\n",
    "\n",
    "    # set-up parameters to be updated (parameters is an (I+3)xG matrix)\n",
    "    betas = initial_value[:I, :]\n",
    "    sigmas = np.abs(initial_value[I, :])\n",
    "    mus = initial_value[I+1, :]\n",
    "    pis = initial_value[I+2, :]\n",
    "\n",
    "    # Gaussian-Hermite nodes and weights\n",
    "    nodes, weights = np.polynomial.hermite.hermgauss(nodes_num)\n",
    "    weights /= np.sqrt(np.pi)\n",
    "    nodes *= np.sqrt(2)\n",
    "\n",
    "    ### Calculate marginal log-likelihood\n",
    "    \n",
    "    # Initialize marginals: Nx1 vector\n",
    "    marginal = np.zeros(N)\n",
    "    \n",
    "    for g in range(G):\n",
    "        \n",
    "        # Get cluster parameters\n",
    "        beta_g = betas[:, g]\n",
    "        sigma_g = sigmas[g]\n",
    "        mu_g = mus[g]\n",
    "        pi_g = pis[g]\n",
    "        \n",
    "        # Adjust nodes\n",
    "        nodes_g = nodes + mu_g\n",
    "\n",
    "        # Calculate marginals: Nx1 vector\n",
    "        marginal_g = (f_y(Y, beta_g, sigma_g, nodes_g) * H(nodes_g, fct=\"one\")).dot(weights)\n",
    "        \n",
    "        # Calculate current marginals\n",
    "        marginal += pi_g * marginal_g\n",
    "        \n",
    "    # Calculate sum of log-likelihood\n",
    "    target = np.sum(np.log(marginal))\n",
    "    \n",
    "    return -target"
   ]
  },
  {
   "cell_type": "code",
   "execution_count": null,
   "metadata": {},
   "outputs": [],
   "source": []
  }
 ],
 "metadata": {
  "kernelspec": {
   "display_name": "Python 3",
   "language": "python",
   "name": "python3"
  },
  "language_info": {
   "codemirror_mode": {
    "name": "ipython",
    "version": 3
   },
   "file_extension": ".py",
   "mimetype": "text/x-python",
   "name": "python",
   "nbconvert_exporter": "python",
   "pygments_lexer": "ipython3",
   "version": "3.8.5"
  }
 },
 "nbformat": 4,
 "nbformat_minor": 4
}
