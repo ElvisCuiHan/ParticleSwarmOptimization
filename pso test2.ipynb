{
 "cells": [
  {
   "cell_type": "markdown",
   "metadata": {},
   "source": [
    "# Some Examples on Particle Swarm Optimization"
   ]
  },
  {
   "cell_type": "markdown",
   "metadata": {},
   "source": [
    "### Import packages"
   ]
  },
  {
   "cell_type": "code",
   "execution_count": 46,
   "metadata": {},
   "outputs": [],
   "source": [
    "import pyswarms as ps\n",
    "from pyswarms.utils.functions import single_obj as fx\n",
    "from pyswarms.utils.plotters import plot_cost_history, plot_contour, plot_surface\n",
    "import matplotlib.pyplot as plt\n",
    "import scipy\n",
    "import numpy as np\n",
    "import pandas as pd\n",
    "from sklearn.linear_model import LinearRegression, Lasso, Ridge\n",
    "from sklearn.preprocessing import StandardScaler"
   ]
  },
  {
   "cell_type": "markdown",
   "metadata": {},
   "source": [
    "### Some interesting loss functions"
   ]
  },
  {
   "cell_type": "code",
   "execution_count": 178,
   "metadata": {},
   "outputs": [],
   "source": [
    "def scad(b, **kwargs):\n",
    "    \"\"\"SCAD loss function.\n",
    "\n",
    "    Parameters\n",
    "    ----------\n",
    "    b : numpy.ndarray\n",
    "        sets of inputs shape :code:'(n_particles, dimensions)'\n",
    "\n",
    "    X : numpy.ndarray\n",
    "        design matrix of inputs shape:code:'(N_obs, dimensions)'\n",
    "\n",
    "    y : numpy.ndarray\n",
    "        response vector of inputs shape :code:'(N_obs)'\n",
    "\n",
    "    lam : float\n",
    "        penalty parameter lambda.\n",
    "\n",
    "    a : float\n",
    "        penalty parameter a.\n",
    "    \n",
    "    rho : float\n",
    "        regularitzation parameter\n",
    "\n",
    "    Returns\n",
    "    ----------\n",
    "    numpy.ndarray\n",
    "        computed cost of size :code:`(n_particles, )` \n",
    "    \"\"\"\n",
    "    \n",
    "    def scad_penalty(beta_hat, lambda_val, a_val):\n",
    "        \"\"\"\n",
    "        Ref\n",
    "        ----------\n",
    "        https://andrewcharlesjones.github.io/posts/2020/03/scad/\n",
    "        \"\"\"\n",
    "\n",
    "        is_linear = (np.abs(beta_hat) <= lambda_val)\n",
    "        is_quadratic = np.logical_and(lambda_val < np.abs(beta_hat), np.abs(beta_hat) <= a_val * lambda_val)\n",
    "        is_constant = (a_val * lambda_val) < np.abs(beta_hat)\n",
    "    \n",
    "        linear_part = lambda_val * np.abs(beta_hat) * is_linear\n",
    "        quadratic_part = (2 * a_val * lambda_val * np.abs(beta_hat) - beta_hat ** 2 - lambda_val ** 2) / (\n",
    "                    2 * (a_val - 1)) * is_quadratic\n",
    "        constant_part = (lambda_val ** 2 * (a_val + 1)) / 2 * is_constant\n",
    "\n",
    "        return linear_part + quadratic_part + constant_part\n",
    "\n",
    "    X, y, lam, a, rho = kwargs.values()\n",
    "\n",
    "    # e is a nxN matrix, n=n_particles and N=n_obs\n",
    "    e = (y - X.dot(b.T)).T\n",
    "    penalty = np.zeros(b.shape)\n",
    "\n",
    "    for i in range(e.shape[0]):\n",
    "        penalty[i, :] = scad_penalty(b[i, :], lam, a)\n",
    "\n",
    "    return 0.5 * (1/len(y)) * np.linalg.norm(e, axis=1) ** 2 + rho * penalty.sum(axis=1)\n",
    "\n",
    "def LASSO(b, **kwargs):\n",
    "    \"\"\"LASSO loss\n",
    "    \n",
    "    Parameters\n",
    "    ----------\n",
    "    b : numpy.ndarray\n",
    "        sets of inputs shape :code:'(n_particles, dimensions)'\n",
    "    \n",
    "    Returns\n",
    "    ----------\n",
    "    numpy.ndarray\n",
    "        computed cost of size :code:'(n_particles, )'\n",
    "    \"\"\"\n",
    "    X, y, lam = kwargs.values()\n",
    "    \n",
    "    e = (y - X.dot(b.T)).T\n",
    "    \n",
    "    return 0.5 * (1/len(y)) * np.linalg.norm(e, axis=1) ** 2 + lam * np.abs(b).sum(axis=1)\n"
   ]
  },
  {
   "cell_type": "code",
   "execution_count": 230,
   "metadata": {},
   "outputs": [],
   "source": [
    "data = pd.read_csv(\"datasets/waterquality.csv\")\n",
    "scaler = StandardScaler()\n",
    "data_scale = scaler.fit_transform(data.iloc[:, 1:])\n",
    "X = data_scale[:, 1:-3]\n",
    "y = data_scale[:, -2]"
   ]
  },
  {
   "cell_type": "code",
   "execution_count": 180,
   "metadata": {},
   "outputs": [
    {
     "name": "stdout",
     "output_type": "stream",
     "text": [
      "Index(['Depth', 'Chl-a', 'DO', 'Turbity', 'pH', 'TDS', 'T', 'NH4-N', 'NO3-N',\n",
      "       'TN', 'TP', 'TOC', 'Ca', 'K', 'Mg', 'Na', 'F'],\n",
      "      dtype='object')\n"
     ]
    }
   ],
   "source": [
    "print(data.columns[1:-3])"
   ]
  },
  {
   "cell_type": "code",
   "execution_count": 398,
   "metadata": {},
   "outputs": [
    {
     "name": "stderr",
     "output_type": "stream",
     "text": [
      "2021-02-27 15:18:00,028 - pyswarms.single.global_best - INFO - Optimize for 100 iters with {'c1': 0.5, 'c2': 0.3, 'w': 0.9}\n",
      "pyswarms.single.global_best: 100%|██████████|100/100, best_cost=0.523\n",
      "2021-02-27 15:18:00,344 - pyswarms.single.global_best - INFO - Optimization finished | best cost: 0.522779015745499, best pos: [-1.04928545e-03 -2.50372402e-03 -1.05912030e-02  2.48587688e-04\n",
      " -2.16750334e-03  2.55644343e-03  4.52792646e-04  4.83823686e-03\n",
      " -1.27464320e-04 -5.39112970e-04  2.25026114e-05  3.75300817e-03\n",
      "  1.46339993e-03 -9.86811577e-04 -1.90399264e-03  3.27034902e-04]\n"
     ]
    },
    {
     "name": "stdout",
     "output_type": "stream",
     "text": [
      "0.010591202992604302\n"
     ]
    }
   ],
   "source": [
    "ols = LinearRegression().fit(X, y)\n",
    "lasso = Lasso(alpha=1).fit(X, y)\n",
    "ridge = Ridge(alpha=0.5).fit(X, y)\n",
    "\n",
    "options = {'c1': 0.5, 'c2': 0.3, 'w':0.9}\n",
    "optimizer = ps.single.GlobalBestPSO(n_particles=100, dimensions=X.shape[1], options=options)\n",
    "best_cost, best_pos = optimizer.optimize(scad, iters=100, X=X, y=y.reshape((-1, 1)), lam=1, a=2.5, rho=1)\n",
    "#best_cost, best_pos = optimizer.optimize(LASSO, iters=100, X=X, y=y.reshape((-1, 1)), lam=1)\n",
    "print(max(np.abs(best_pos)))"
   ]
  },
  {
   "cell_type": "code",
   "execution_count": 373,
   "metadata": {},
   "outputs": [
    {
     "data": {
      "text/plain": [
       "array([ 0.04,  0.03, -0.22,  0.05, -0.02,  0.93,  0.31,  0.2 , -0.04,\n",
       "        0.07, -0.02, -0.08, -0.66, -0.35, -0.36, -0.33])"
      ]
     },
     "execution_count": 373,
     "metadata": {},
     "output_type": "execute_result"
    }
   ],
   "source": [
    "ols.coef_.round(2)"
   ]
  },
  {
   "cell_type": "code",
   "execution_count": 374,
   "metadata": {},
   "outputs": [
    {
     "data": {
      "text/plain": [
       "array([-0., -0., -0., -0., -0.,  0.,  0.,  0., -0., -0.,  0.,  0.,  0.,\n",
       "        0., -0., -0.])"
      ]
     },
     "execution_count": 374,
     "metadata": {},
     "output_type": "execute_result"
    }
   ],
   "source": [
    "lasso.coef_.round(2)"
   ]
  },
  {
   "cell_type": "code",
   "execution_count": 375,
   "metadata": {},
   "outputs": [
    {
     "data": {
      "text/plain": [
       "array([ 0.03,  0.05, -0.22,  0.05, -0.02,  0.84,  0.3 ,  0.19, -0.04,\n",
       "        0.07, -0.02, -0.07, -0.57, -0.34, -0.32, -0.32])"
      ]
     },
     "execution_count": 375,
     "metadata": {},
     "output_type": "execute_result"
    }
   ],
   "source": [
    "ridge.coef_.round(2)"
   ]
  },
  {
   "cell_type": "code",
   "execution_count": 389,
   "metadata": {},
   "outputs": [
    {
     "data": {
      "text/plain": [
       "array([-0.02, -0.  , -0.  ,  0.04, -0.01,  0.04, -0.01, -0.12,  0.  ,\n",
       "       -0.04,  0.  ,  0.21, -0.03,  0.  , -0.  ,  0.  ])"
      ]
     },
     "execution_count": 389,
     "metadata": {},
     "output_type": "execute_result"
    }
   ],
   "source": [
    "best_pos.round(2)"
   ]
  },
  {
   "cell_type": "code",
   "execution_count": 377,
   "metadata": {},
   "outputs": [],
   "source": [
    "m = 100; n=100\n",
    "xx, yy = np.meshgrid(np.linspace(-2.5,2.5,m), np.linspace(-2.5,2.5,n))\n",
    "rest = np.repeat(best_pos[2:].reshape((-1, 1)), m*n, 1).T\n",
    "xxyy = np.array((xx, yy)).reshape(2, -1).T\n",
    "xxyy_rest = np.hstack([rest, xxyy])\n",
    "points = np.array(optimizer.pos_history)[-1, :, -2:]"
   ]
  },
  {
   "cell_type": "code",
   "execution_count": 388,
   "metadata": {},
   "outputs": [
    {
     "data": {
      "image/png": "[encoded data removed]",
      "text/plain": [
       "<Figure size 432x288 with 2 Axes>"
      ]
     },
     "metadata": {
      "needs_background": "light"
     },
     "output_type": "display_data"
    }
   ],
   "source": [
    "z = scad(xxyy_rest, X=X, y=y.reshape((-1, 1)), lam=1, a=2.5, rho=0.1)\n",
    "z_ = z.reshape((n, m))\n",
    "plt.contourf(xx, yy, z_, 15, cmap='Set2',alpha=0.5)\n",
    "plt.scatter(x=points[:, 0], y=points[:, 1], c=\"red\")\n",
    "plt.colorbar()\n",
    "plt.xlim(-2.5, 2.5)\n",
    "plt.ylim(-2.5, 2.5)\n",
    "plt.show()"
   ]
  },
  {
   "cell_type": "code",
   "execution_count": 401,
   "metadata": {},
   "outputs": [
    {
     "data": {
      "text/plain": [
       "Index(['Depth', 'Chl-a', 'DO', 'Turbity', 'pH', 'TDS', 'T', 'NH4-N', 'NO3-N',\n",
       "       'TN', 'TP', 'TOC', 'Ca', 'K', 'Mg', 'Na', 'F'],\n",
       "      dtype='object')"
      ]
     },
     "execution_count": 401,
     "metadata": {},
     "output_type": "execute_result"
    }
   ],
   "source": []
  }
 ],
 "metadata": {
  "kernelspec": {
   "display_name": "Python 3",
   "language": "python",
   "name": "python3"
  },
  "language_info": {
   "codemirror_mode": {
    "name": "ipython",
    "version": 3
   },
   "file_extension": ".py",
   "mimetype": "text/x-python",
   "name": "python",
   "nbconvert_exporter": "python",
   "pygments_lexer": "ipython3",
   "version": "3.8.5"
  }
 },
 "nbformat": 4,
 "nbformat_minor": 4
}
