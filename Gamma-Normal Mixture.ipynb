{
 "cells": [
  {
   "cell_type": "code",
   "execution_count": 103,
   "metadata": {},
   "outputs": [],
   "source": [
    "import numpy as np\n",
    "import matplotlib.pyplot as plt\n",
    "import pyswarms as ps\n",
    "import pandas as pd\n",
    "import scipy\n",
    "from scipy.stats import norm, gamma"
   ]
  },
  {
   "cell_type": "code",
   "execution_count": 124,
   "metadata": {},
   "outputs": [],
   "source": [
    "def gamma_normal_pdf(x, lam, alpha, beta, mu, sigma):\n",
    "    \"\"\"Probability density of Gamma-Normal mixture distribution.\n",
    "\n",
    "    Parameters\n",
    "    ----------\n",
    "    x : vector or scalar\n",
    "        Realization of random variable :code:'(N_obs, )'\n",
    "        \n",
    "    lam : vector or scalar\n",
    "        Proportion of Gamma distribution.\n",
    "\n",
    "    alpha : vector or scalar\n",
    "        Location parameter of Gamma.\n",
    "\n",
    "    beta : vector or scalar\n",
    "        Scale parameter of Gamma.\n",
    "\n",
    "    mu : vector or scalar\n",
    "        Mean parameter of Normal.\n",
    "\n",
    "    sigma : vector or scalar\n",
    "        Variance parameter of Normal.\n",
    "\n",
    "    Returns\n",
    "    ----------\n",
    "    numpy.ndarray\n",
    "        computed density of size :code:`(N_obs, )`\n",
    "    \"\"\"\n",
    "    \n",
    "    g = gamma.pdf(x, a=alpha, scale=1 / beta)\n",
    "    n = norm.pdf(x, loc=mu, scale=sigma)\n",
    "    \n",
    "    return lam * g + (1-lam) * n\n",
    "\n",
    "def log_lik_gamma_normal(b, x):\n",
    "    \"\"\"\n",
    "    Parameters\n",
    "    ----------\n",
    "    b : numpy.ndarray\n",
    "        sets of inputs shape :code:'(n_particles, 5)'\n",
    "\n",
    "    x : numpy.ndarray\n",
    "        the gene expression vector of inputs shape :code:'(N_obs, )'\n",
    "\n",
    "    Returns\n",
    "    ----------\n",
    "    numpy.ndarray\n",
    "        computed log likelihood of Gamma-Normal mixture of size :code:`(n_particles, )`\n",
    "    \"\"\"\n",
    "    \n",
    "    lams = b[:, 0]; alphas = b[:, 1]; betas = b[:, 2]; mus = b[:, 3]; sigmas = b[:, 4]\n",
    "    n_particles = lams.shape[0]\n",
    "    log_lik = np.zeros(n_particles)\n",
    "    \n",
    "    for i in range(n_particles):\n",
    "        pdf = gamma_normal_pdf(x, lams[i], alphas[i], betas[i], mus[i], sigmas[i])\n",
    "        log_lik[i] = np.log(pdf + 1e-100).sum()\n",
    "        \n",
    "    return -log_lik"
   ]
  },
  {
   "cell_type": "code",
   "execution_count": 191,
   "metadata": {},
   "outputs": [
    {
     "data": {
      "text/plain": [
       "array([932.34226257, 654.58957402, 947.75843027, 477.10897039,\n",
       "       834.72938324, 519.2580177 , 430.90185813, 405.00534838,\n",
       "       435.8438143 , 674.49169466])"
      ]
     },
     "execution_count": 191,
     "metadata": {},
     "output_type": "execute_result"
    }
   ],
   "source": [
    "np.random.seed(12)\n",
    "b = np.random.random((10, 5))\n",
    "n = norm.rvs(size=100, loc=3, scale=1)\n",
    "g = gamma.rvs(size=100, a=1, scale=1)\n",
    "x = np.hstack((n, g))\n",
    "\n",
    "log_lik_gamma_normal(b, x=x)"
   ]
  },
  {
   "cell_type": "code",
   "execution_count": 192,
   "metadata": {},
   "outputs": [
    {
     "name": "stderr",
     "output_type": "stream",
     "text": [
      "2021-02-28 11:54:45,823 - pyswarms.single.global_best - INFO - Optimize for 100 iters with {'c1': 0.5, 'c2': 0.3, 'w': 0.9}\n",
      "pyswarms.single.global_best:   0%|          |0/100, best_cost=319/Users/elviscui/opt/anaconda3/lib/python3.8/site-packages/scipy/stats/_distn_infrastructure.py:1760: RuntimeWarning: divide by zero encountered in true_divide\n",
      "  x = np.asarray((x - loc)/scale, dtype=dtyp)\n",
      "pyswarms.single.global_best:   0%|          |0/100, best_cost=319/Users/elviscui/opt/anaconda3/lib/python3.8/site-packages/pyswarms/backend/operators.py:198: RuntimeWarning: invalid value encountered in add\n",
      "  temp_position += swarm.velocity\n",
      "pyswarms.single.global_best: 100%|██████████|100/100, best_cost=318\n",
      "2021-02-28 11:54:46,733 - pyswarms.single.global_best - INFO - Optimization finished | best cost: 318.2121831217237, best pos: [0.53003003 0.97719238 0.81666204 2.76685011 1.09700104]\n"
     ]
    }
   ],
   "source": [
    "# Set-up hyperparameters\n",
    "options = {'c1': 0.5, 'c2': 0.3, 'w':0.9}\n",
    "n = 50\n",
    "# Call instance of PSO\n",
    "bounds = [(0, 0, 0, -np.inf, 0), (1, np.inf, np.inf, np.inf, np.inf)]\n",
    "optimizer = ps.single.GlobalBestPSO(n_particles=n, dimensions=5, options=options, bounds=bounds, init_pos=0.5*np.ones((n, 5)))\n",
    "# Perform optimization\n",
    "best_cost, best_pos = optimizer.optimize(log_lik_gamma_normal, iters=100, x=x)"
   ]
  },
  {
   "cell_type": "code",
   "execution_count": 193,
   "metadata": {},
   "outputs": [
    {
     "data": {
      "image/png": "[encoded data removed]",
      "text/plain": [
       "<Figure size 432x288 with 1 Axes>"
      ]
     },
     "metadata": {
      "needs_background": "light"
     },
     "output_type": "display_data"
    }
   ],
   "source": [
    "points = np.linspace(-2, np.max(x), 300)\n",
    "densities = gamma_normal_pdf(points, best_pos[0], best_pos[1], best_pos[2], best_pos[3], best_pos[4])\n",
    "plt.plot(points, densities)\n",
    "plt.hist(x, weights=2*np.ones(len(x)) / len(x), bins=20)\n",
    "plt.show()"
   ]
  },
  {
   "cell_type": "code",
   "execution_count": 221,
   "metadata": {},
   "outputs": [
    {
     "data": {
      "text/plain": [
       "array([0.52941714, 2.76676059, 1.09692591])"
      ]
     },
     "execution_count": 221,
     "metadata": {},
     "output_type": "execute_result"
    }
   ],
   "source": [
    "np.array([best_pos[0], best_pos[3], best_pos[4]])"
   ]
  },
  {
   "cell_type": "code",
   "execution_count": 216,
   "metadata": {},
   "outputs": [
    {
     "data": {
      "text/plain": [
       "(900, 4)"
      ]
     },
     "execution_count": 216,
     "metadata": {},
     "output_type": "execute_result"
    }
   ],
   "source": [
    "np.hstack([rest[:, 0].reshape((-1, 1)), xxyy, rest[:, 1:]]).shape"
   ]
  },
  {
   "cell_type": "code",
   "execution_count": 226,
   "metadata": {},
   "outputs": [
    {
     "name": "stderr",
     "output_type": "stream",
     "text": [
      "2021-02-28 12:31:07,966 - pyswarms.single.global_best - INFO - Optimize for 100 iters with {'c1': 0.5, 'c2': 0.3, 'w': 0.9}\n",
      "pyswarms.single.global_best:   0%|          |0/100, best_cost=348<ipython-input-124-66700eeb2db6>:57: RuntimeWarning: invalid value encountered in log\n",
      "  log_lik[i] = np.log(pdf + 1e-100).sum()\n",
      "pyswarms.single.global_best: 100%|██████████|100/100, best_cost=318\n",
      "2021-02-28 12:31:09,690 - pyswarms.single.global_best - INFO - Optimization finished | best cost: 318.2120769765089, best pos: [0.52876189 0.97721801 0.81777488 2.76576782 1.09735066]\n"
     ]
    },
    {
     "data": {
      "text/plain": [
       "(0.01, 7.0)"
      ]
     },
     "execution_count": 226,
     "metadata": {},
     "output_type": "execute_result"
    },
    {
     "data": {
      "image/png": "[encoded data removed]",
      "text/plain": [
       "<Figure size 1800x576 with 2 Axes>"
      ]
     },
     "metadata": {
      "needs_background": "light"
     },
     "output_type": "display_data"
    }
   ],
   "source": [
    "options = {'c1': 0.5, 'c2': 0.3, 'w': 0.9}\n",
    "optimizer = ps.single.GlobalBestPSO(n_particles=100, dimensions=5, options=options)\n",
    "best_cost, best_pos = optimizer.optimize(log_lik_gamma_normal, iters=100, x=x)\n",
    "m = 60; n = 90\n",
    "xx, yy = np.meshgrid(np.linspace(-3, 9, m), np.linspace(0.01, 7, n))\n",
    "rest = np.repeat(best_pos[:3].reshape((-1, 1)), m * n, 1).T\n",
    "xxyy = np.array((xx, yy)).reshape(2, -1).T\n",
    "xxyy_rest = np.hstack([rest, xxyy])\n",
    "points = np.array(optimizer.pos_history)\n",
    "\n",
    "plt.figure(figsize=(25, 8))\n",
    "\n",
    "z_ = log_lik_gamma_normal(xxyy_rest, x=x).reshape((n, m))\n",
    "\n",
    "# PLOT normal loss fct\n",
    "plt.subplot(131)\n",
    "plt.contourf(xx, yy, z_, 15, cmap='Pastel2', alpha=0.5)\n",
    "plt.colorbar()\n",
    "plt.scatter(points[2, :, 3], points[2, :, 4])\n",
    "plt.xlabel(\"mu\")\n",
    "plt.ylabel(\"sigma square\")\n",
    "plt.xlim(-3, 9)\n",
    "plt.ylim(0.01, 7)"
   ]
  },
  {
   "cell_type": "code",
   "execution_count": 118,
   "metadata": {},
   "outputs": [],
   "source": [
    "X = pd.read_csv(\"datasets/cm_Cortex1_Smart-seq2.csv\").iloc[:, 1:]"
   ]
  },
  {
   "cell_type": "code",
   "execution_count": 145,
   "metadata": {},
   "outputs": [
    {
     "data": {
      "text/plain": [
       "array([ 61519.74130941,  80211.66537578,  13829.84650676,  -3606.73899127,\n",
       "         4430.56684569, -20757.73992303, -24989.08700992,  -6937.24632082,\n",
       "        62231.99776295,   -484.01480075])"
      ]
     },
     "execution_count": 145,
     "metadata": {},
     "output_type": "execute_result"
    }
   ],
   "source": [
    "data = np.log(np.array(X) + 1.01)\n",
    "theta = np.random.random((10, 5))\n",
    "log_lik_gamma_normal(b, data[:, 0])"
   ]
  },
  {
   "cell_type": "code",
   "execution_count": 160,
   "metadata": {},
   "outputs": [
    {
     "name": "stderr",
     "output_type": "stream",
     "text": [
      "2021-02-27 21:23:52,420 - pyswarms.single.global_best - INFO - Optimize for 100 iters with {'c1': 0.5, 'c2': 0.3, 'w': 0.9}\n",
      "pyswarms.single.global_best: 100%|██████████|100/100, best_cost=-5.21e+4\n",
      "2021-02-27 21:24:17,936 - pyswarms.single.global_best - INFO - Optimization finished | best cost: -52136.71213540182, best pos: [0.89144711 0.41524623 9.9888267  3.17739141 2.08624875]\n"
     ]
    }
   ],
   "source": [
    "# Set-up hyperparameters\n",
    "options = {'c1': 0.5, 'c2': 0.3, 'w':0.9}\n",
    "n = 100\n",
    "bounds = [(0, 0, 0, -np.inf, 0), (1, 10, 10, 10, 10)]\n",
    "# Call instance of PSO\n",
    "optimizer = ps.single.GlobalBestPSO(n_particles=n, dimensions=5, options=options, bounds=bounds, init_pos=0.5*np.ones((n, 5)))\n",
    "# Perform optimization\n",
    "best_cost, best_pos = optimizer.optimize(log_lik_gamma_normal, iters=100, x=data[:, 0])"
   ]
  },
  {
   "cell_type": "code",
   "execution_count": 161,
   "metadata": {},
   "outputs": [
    {
     "name": "stderr",
     "output_type": "stream",
     "text": [
      "2021-02-27 21:24:26,008 - pyswarms.single.global_best - INFO - Optimize for 100 iters with {'c1': 0.5, 'c2': 0.3, 'w': 0.9}\n",
      "pyswarms.single.global_best: 100%|██████████|100/100, best_cost=-5.16e+4\n",
      "2021-02-27 21:24:51,574 - pyswarms.single.global_best - INFO - Optimization finished | best cost: -51561.018358849265, best pos: [0.86608454 0.39596872 9.63220005 3.75794639 2.31554597]\n"
     ]
    }
   ],
   "source": [
    "# Set-up hyperparameters\n",
    "options = {'c1': 0.5, 'c2': 0.3, 'w':0.9}\n",
    "n = 100\n",
    "bounds = [(0, 0, 0, -np.inf, 0), (1, 10, 10, 10, 10)]\n",
    "# Call instance of PSO\n",
    "optimizer = ps.single.GlobalBestPSO(n_particles=n, dimensions=5, options=options, bounds=bounds, init_pos=0.5*np.ones((n, 5)))\n",
    "# Perform optimization\n",
    "best_cost, best_pos = optimizer.optimize(log_lik_gamma_normal, iters=100, x=data[:, 0])"
   ]
  },
  {
   "cell_type": "code",
   "execution_count": 162,
   "metadata": {},
   "outputs": [
    {
     "name": "stderr",
     "output_type": "stream",
     "text": [
      "2021-02-27 21:24:51,580 - pyswarms.single.global_best - INFO - Optimize for 100 iters with {'c1': 0.5, 'c2': 0.3, 'w': 0.9}\n",
      "pyswarms.single.global_best: 100%|██████████|100/100, best_cost=-5.2e+4\n",
      "2021-02-27 21:25:17,132 - pyswarms.single.global_best - INFO - Optimization finished | best cost: -51967.324163946716, best pos: [0.8852479  0.46605638 9.98008848 2.361166   2.31091797]\n"
     ]
    }
   ],
   "source": [
    "# Set-up hyperparameters\n",
    "options = {'c1': 0.5, 'c2': 0.3, 'w':0.9}\n",
    "n = 100\n",
    "bounds = [(0, 0, 0, -np.inf, 0), (1, 10, 10, 10, 10)]\n",
    "# Call instance of PSO\n",
    "optimizer = ps.single.GlobalBestPSO(n_particles=n, dimensions=5, options=options, bounds=bounds, init_pos=0.5*np.ones((n, 5)))\n",
    "# Perform optimization\n",
    "best_cost, best_pos = optimizer.optimize(log_lik_gamma_normal, iters=100, x=data[:, 0])"
   ]
  },
  {
   "cell_type": "code",
   "execution_count": 163,
   "metadata": {},
   "outputs": [
    {
     "name": "stderr",
     "output_type": "stream",
     "text": [
      "2021-02-27 21:25:17,139 - pyswarms.single.global_best - INFO - Optimize for 100 iters with {'c1': 0.5, 'c2': 0.3, 'w': 0.9}\n",
      "pyswarms.single.global_best: 100%|██████████|100/100, best_cost=-5.18e+4\n",
      "2021-02-27 21:25:42,933 - pyswarms.single.global_best - INFO - Optimization finished | best cost: -51784.44179674306, best pos: [0.87158042 0.3836844  9.86876596 3.42840221 2.20736308]\n"
     ]
    }
   ],
   "source": [
    "# Set-up hyperparameters\n",
    "options = {'c1': 0.5, 'c2': 0.3, 'w':0.9}\n",
    "n = 100\n",
    "bounds = [(0, 0, 0, -np.inf, 0), (1, 10, 10, 10, 10)]\n",
    "# Call instance of PSO\n",
    "optimizer = ps.single.GlobalBestPSO(n_particles=n, dimensions=5, options=options, bounds=bounds, init_pos=0.5*np.ones((n, 5)))\n",
    "# Perform optimization\n",
    "best_cost, best_pos = optimizer.optimize(log_lik_gamma_normal, iters=100, x=data[:, 0])"
   ]
  }
 ],
 "metadata": {
  "kernelspec": {
   "display_name": "Python 3",
   "language": "python",
   "name": "python3"
  },
  "language_info": {
   "codemirror_mode": {
    "name": "ipython",
    "version": 3
   },
   "file_extension": ".py",
   "mimetype": "text/x-python",
   "name": "python",
   "nbconvert_exporter": "python",
   "pygments_lexer": "ipython3",
   "version": "3.8.5"
  }
 },
 "nbformat": 4,
 "nbformat_minor": 4
}
